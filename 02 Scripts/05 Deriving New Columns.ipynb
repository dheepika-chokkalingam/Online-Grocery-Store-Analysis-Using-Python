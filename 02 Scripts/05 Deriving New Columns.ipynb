{
 "cells": [
  {
   "cell_type": "markdown",
   "id": "2e5626dc",
   "metadata": {},
   "source": [
    "# Deriving New Columns:\n",
    "\n",
    "1. Importing libraries and dataset\n",
    "2. Creating column for price range using .loc()\n",
    "3. Creating column to categorise day busyness level over a week using for and if else condition\n",
    "4. Creating column to categorise hour busyness level over a day using for and if else condition\n",
    "5. Exporting the dataset with newly derived columns"
   ]
  },
  {
   "cell_type": "markdown",
   "id": "9291d405",
   "metadata": {},
   "source": [
    "## 1. Importing libraries and dataset"
   ]
  },
  {
   "cell_type": "code",
   "execution_count": 1,
   "id": "5e821770",
   "metadata": {},
   "outputs": [],
   "source": [
    "# Importing libraries\n",
    "\n",
    "import pandas as pd\n",
    "import numpy as np\n",
    "import os"
   ]
  },
  {
   "cell_type": "code",
   "execution_count": 2,
   "id": "c2db8530",
   "metadata": {},
   "outputs": [
    {
     "name": "stdout",
     "output_type": "stream",
     "text": [
      "Stored 'path' (str)\n"
     ]
    }
   ],
   "source": [
    "# Accessing EnvFile for path\n",
    "\n",
    "%run EnvFile.ipynb"
   ]
  },
  {
   "cell_type": "code",
   "execution_count": 3,
   "id": "ec1f21fc",
   "metadata": {},
   "outputs": [],
   "source": [
    "# Importing orders_products_merged.pkl\n",
    "\n",
    "df_ords_prods_dept = pd.read_pickle(os.path.join(path, '02 Data', 'Prepared Data', 'orders_products_dept.pkl'))"
   ]
  },
  {
   "cell_type": "code",
   "execution_count": 4,
   "id": "b6fd91a2",
   "metadata": {},
   "outputs": [
    {
     "name": "stdout",
     "output_type": "stream",
     "text": [
      "<class 'pandas.core.frame.DataFrame'>\n",
      "Int64Index: 32404289 entries, 0 to 32404288\n",
      "Data columns (total 14 columns):\n",
      " #   Column                  Dtype  \n",
      "---  ------                  -----  \n",
      " 0   order_id                int32  \n",
      " 1   user_id                 int32  \n",
      " 2   order_number            int8   \n",
      " 3   order_day_of_week       int8   \n",
      " 4   order_hour_of_day       int8   \n",
      " 5   days_since_prior_order  float16\n",
      " 6   product_id              int32  \n",
      " 7   add_to_cart_order       int32  \n",
      " 8   reordered               int8   \n",
      " 9   product_name            object \n",
      " 10  aisle_id                int8   \n",
      " 11  department_id           int8   \n",
      " 12  prices                  float64\n",
      " 13  department              object \n",
      "dtypes: float16(1), float64(1), int32(4), int8(6), object(2)\n",
      "memory usage: 1.7+ GB\n"
     ]
    }
   ],
   "source": [
    "df_ords_prods_dept.info()"
   ]
  },
  {
   "cell_type": "markdown",
   "id": "daed0c32",
   "metadata": {},
   "source": [
    "## 2. Creating column for price range using .loc()"
   ]
  },
  {
   "cell_type": "code",
   "execution_count": 5,
   "id": "d55abf3f",
   "metadata": {},
   "outputs": [],
   "source": [
    "df_ords_prods_dept.loc[df_ords_prods_dept['prices'] > 15, 'price_range'] = 'High-range product'"
   ]
  },
  {
   "cell_type": "code",
   "execution_count": 6,
   "id": "3a3d1944",
   "metadata": {},
   "outputs": [],
   "source": [
    "df_ords_prods_dept.loc[(df_ords_prods_dept['prices'] <= 15) & (df_ords_prods_dept['prices'] > 5), 'price_range'] = 'Mid-range product'"
   ]
  },
  {
   "cell_type": "code",
   "execution_count": 7,
   "id": "69f45b30",
   "metadata": {},
   "outputs": [],
   "source": [
    "df_ords_prods_dept.loc[df_ords_prods_dept['prices'] <= 5, 'price_range'] = 'Low-range product'"
   ]
  },
  {
   "cell_type": "code",
   "execution_count": 8,
   "id": "6e6de689",
   "metadata": {},
   "outputs": [
    {
     "data": {
      "text/plain": [
       "Mid-range product     21865979\n",
       "Low-range product     10125759\n",
       "High-range product      412551\n",
       "Name: price_range, dtype: int64"
      ]
     },
     "execution_count": 8,
     "metadata": {},
     "output_type": "execute_result"
    }
   ],
   "source": [
    "df_ords_prods_dept['price_range'].value_counts(dropna = False)"
   ]
  },
  {
   "cell_type": "markdown",
   "id": "0b04b619",
   "metadata": {},
   "source": [
    "## 3. Creating column to categorise day busyness level over the week"
   ]
  },
  {
   "cell_type": "code",
   "execution_count": 9,
   "id": "8b1eb1f5",
   "metadata": {},
   "outputs": [
    {
     "data": {
      "text/plain": [
       "0    6204040\n",
       "1    5660135\n",
       "6    4496403\n",
       "2    4213760\n",
       "5    4205721\n",
       "3    3840476\n",
       "4    3783754\n",
       "Name: order_day_of_week, dtype: int64"
      ]
     },
     "execution_count": 9,
     "metadata": {},
     "output_type": "execute_result"
    }
   ],
   "source": [
    "df_ords_prods_dept['order_day_of_week'].value_counts(dropna = False)"
   ]
  },
  {
   "cell_type": "markdown",
   "id": "0f28edb8",
   "metadata": {},
   "source": [
    "#### 0 (Saturday) and 1 (Sunday) are the most busy days, 4 (Wednesday) and 3 (Tuesday) are the least busy days and the rest are regular busy days."
   ]
  },
  {
   "cell_type": "code",
   "execution_count": 10,
   "id": "7c090820",
   "metadata": {},
   "outputs": [],
   "source": [
    "day_busyness_level = []\n",
    "for value in df_ords_prods_dept['order_day_of_week']:\n",
    "    if (value == 0) or (value == 1):\n",
    "        day_busyness_level.append('Most Busy Day')\n",
    "    elif (value == 4) or (value == 3):\n",
    "        day_busyness_level.append('Least Busy Day')\n",
    "    else:\n",
    "        day_busyness_level.append('Average Busy Day')"
   ]
  },
  {
   "cell_type": "code",
   "execution_count": 11,
   "id": "ce5d8a3d",
   "metadata": {},
   "outputs": [],
   "source": [
    "# Assigning the above for loop result to a new column in df\n",
    "\n",
    "df_ords_prods_dept['day_busyness_level'] = day_busyness_level"
   ]
  },
  {
   "cell_type": "code",
   "execution_count": 12,
   "id": "08bc1fa2",
   "metadata": {},
   "outputs": [
    {
     "data": {
      "text/plain": [
       "Average Busy Day    12915884\n",
       "Most Busy Day       11864175\n",
       "Least Busy Day       7624230\n",
       "Name: day_busyness_level, dtype: int64"
      ]
     },
     "execution_count": 12,
     "metadata": {},
     "output_type": "execute_result"
    }
   ],
   "source": [
    "# Finding the frequency of new column\n",
    "\n",
    "df_ords_prods_dept['day_busyness_level'].value_counts(dropna = False)"
   ]
  },
  {
   "cell_type": "markdown",
   "id": "43db73a8",
   "metadata": {},
   "source": [
    "## 4. Creating column to categorise hour busyness level over the day"
   ]
  },
  {
   "cell_type": "code",
   "execution_count": 13,
   "id": "d5a4c907",
   "metadata": {},
   "outputs": [
    {
     "data": {
      "text/plain": [
       "10    2761710\n",
       "11    2736075\n",
       "14    2689086\n",
       "15    2662094\n",
       "13    2660900\n",
       "12    2618481\n",
       "16    2535154\n",
       "9     2454165\n",
       "17    2087609\n",
       "8     1718100\n",
       "18    1636469\n",
       "19    1258290\n",
       "20     976145\n",
       "7      891040\n",
       "21     795628\n",
       "22     634216\n",
       "23     402315\n",
       "6      290492\n",
       "0      218766\n",
       "1      115699\n",
       "5       87959\n",
       "2       69374\n",
       "4       53241\n",
       "3       51281\n",
       "Name: order_hour_of_day, dtype: int64"
      ]
     },
     "execution_count": 13,
     "metadata": {},
     "output_type": "execute_result"
    }
   ],
   "source": [
    "df_ords_prods_dept['order_hour_of_day'].value_counts(dropna = False)"
   ]
  },
  {
   "cell_type": "code",
   "execution_count": 14,
   "id": "3c4e45c4",
   "metadata": {},
   "outputs": [],
   "source": [
    "hour_busyness_level = []\n",
    "for value in df_ords_prods_dept['order_hour_of_day']:\n",
    "    if (value == 10) or (value == 11):\n",
    "        hour_busyness_level.append('Most Busy Hour')\n",
    "    elif (value == 3) or (value == 4):\n",
    "        hour_busyness_level.append('Least Busy Hour')\n",
    "    else:\n",
    "        hour_busyness_level.append('Average Busy Hour')"
   ]
  },
  {
   "cell_type": "code",
   "execution_count": 15,
   "id": "ea24f191",
   "metadata": {},
   "outputs": [],
   "source": [
    "# Assigning the above for loop result to new column in df\n",
    "\n",
    "df_ords_prods_dept['hour_busyness_level'] = hour_busyness_level"
   ]
  },
  {
   "cell_type": "code",
   "execution_count": 16,
   "id": "c26dec5d",
   "metadata": {},
   "outputs": [
    {
     "data": {
      "text/plain": [
       "Average Busy Hour    26801982\n",
       "Most Busy Hour        5497785\n",
       "Least Busy Hour        104522\n",
       "Name: hour_busyness_level, dtype: int64"
      ]
     },
     "execution_count": 16,
     "metadata": {},
     "output_type": "execute_result"
    }
   ],
   "source": [
    "# Finding the frequency of newly created column\n",
    "\n",
    "df_ords_prods_dept['hour_busyness_level'].value_counts(dropna = False)"
   ]
  },
  {
   "cell_type": "code",
   "execution_count": 17,
   "id": "8fa1bb24",
   "metadata": {},
   "outputs": [
    {
     "data": {
      "text/html": [
       "<div>\n",
       "<style scoped>\n",
       "    .dataframe tbody tr th:only-of-type {\n",
       "        vertical-align: middle;\n",
       "    }\n",
       "\n",
       "    .dataframe tbody tr th {\n",
       "        vertical-align: top;\n",
       "    }\n",
       "\n",
       "    .dataframe thead th {\n",
       "        text-align: right;\n",
       "    }\n",
       "</style>\n",
       "<table border=\"1\" class=\"dataframe\">\n",
       "  <thead>\n",
       "    <tr style=\"text-align: right;\">\n",
       "      <th></th>\n",
       "      <th>order_id</th>\n",
       "      <th>user_id</th>\n",
       "      <th>order_number</th>\n",
       "      <th>order_day_of_week</th>\n",
       "      <th>order_hour_of_day</th>\n",
       "      <th>days_since_prior_order</th>\n",
       "      <th>product_id</th>\n",
       "      <th>add_to_cart_order</th>\n",
       "      <th>reordered</th>\n",
       "      <th>product_name</th>\n",
       "      <th>aisle_id</th>\n",
       "      <th>department_id</th>\n",
       "      <th>prices</th>\n",
       "      <th>department</th>\n",
       "      <th>price_range</th>\n",
       "      <th>day_busyness_level</th>\n",
       "      <th>hour_busyness_level</th>\n",
       "    </tr>\n",
       "  </thead>\n",
       "  <tbody>\n",
       "    <tr>\n",
       "      <th>0</th>\n",
       "      <td>2539329</td>\n",
       "      <td>1</td>\n",
       "      <td>1</td>\n",
       "      <td>2</td>\n",
       "      <td>8</td>\n",
       "      <td>NaN</td>\n",
       "      <td>196</td>\n",
       "      <td>1</td>\n",
       "      <td>0</td>\n",
       "      <td>Soda</td>\n",
       "      <td>77</td>\n",
       "      <td>7</td>\n",
       "      <td>9.0</td>\n",
       "      <td>beverages</td>\n",
       "      <td>Mid-range product</td>\n",
       "      <td>Average Busy Day</td>\n",
       "      <td>Average Busy Hour</td>\n",
       "    </tr>\n",
       "    <tr>\n",
       "      <th>1</th>\n",
       "      <td>2398795</td>\n",
       "      <td>1</td>\n",
       "      <td>2</td>\n",
       "      <td>3</td>\n",
       "      <td>7</td>\n",
       "      <td>15.0</td>\n",
       "      <td>196</td>\n",
       "      <td>1</td>\n",
       "      <td>1</td>\n",
       "      <td>Soda</td>\n",
       "      <td>77</td>\n",
       "      <td>7</td>\n",
       "      <td>9.0</td>\n",
       "      <td>beverages</td>\n",
       "      <td>Mid-range product</td>\n",
       "      <td>Least Busy Day</td>\n",
       "      <td>Average Busy Hour</td>\n",
       "    </tr>\n",
       "    <tr>\n",
       "      <th>2</th>\n",
       "      <td>473747</td>\n",
       "      <td>1</td>\n",
       "      <td>3</td>\n",
       "      <td>3</td>\n",
       "      <td>12</td>\n",
       "      <td>21.0</td>\n",
       "      <td>196</td>\n",
       "      <td>1</td>\n",
       "      <td>1</td>\n",
       "      <td>Soda</td>\n",
       "      <td>77</td>\n",
       "      <td>7</td>\n",
       "      <td>9.0</td>\n",
       "      <td>beverages</td>\n",
       "      <td>Mid-range product</td>\n",
       "      <td>Least Busy Day</td>\n",
       "      <td>Average Busy Hour</td>\n",
       "    </tr>\n",
       "    <tr>\n",
       "      <th>3</th>\n",
       "      <td>2254736</td>\n",
       "      <td>1</td>\n",
       "      <td>4</td>\n",
       "      <td>4</td>\n",
       "      <td>7</td>\n",
       "      <td>29.0</td>\n",
       "      <td>196</td>\n",
       "      <td>1</td>\n",
       "      <td>1</td>\n",
       "      <td>Soda</td>\n",
       "      <td>77</td>\n",
       "      <td>7</td>\n",
       "      <td>9.0</td>\n",
       "      <td>beverages</td>\n",
       "      <td>Mid-range product</td>\n",
       "      <td>Least Busy Day</td>\n",
       "      <td>Average Busy Hour</td>\n",
       "    </tr>\n",
       "    <tr>\n",
       "      <th>4</th>\n",
       "      <td>431534</td>\n",
       "      <td>1</td>\n",
       "      <td>5</td>\n",
       "      <td>4</td>\n",
       "      <td>15</td>\n",
       "      <td>28.0</td>\n",
       "      <td>196</td>\n",
       "      <td>1</td>\n",
       "      <td>1</td>\n",
       "      <td>Soda</td>\n",
       "      <td>77</td>\n",
       "      <td>7</td>\n",
       "      <td>9.0</td>\n",
       "      <td>beverages</td>\n",
       "      <td>Mid-range product</td>\n",
       "      <td>Least Busy Day</td>\n",
       "      <td>Average Busy Hour</td>\n",
       "    </tr>\n",
       "  </tbody>\n",
       "</table>\n",
       "</div>"
      ],
      "text/plain": [
       "   order_id  user_id  order_number  order_day_of_week  order_hour_of_day  \\\n",
       "0   2539329        1             1                  2                  8   \n",
       "1   2398795        1             2                  3                  7   \n",
       "2    473747        1             3                  3                 12   \n",
       "3   2254736        1             4                  4                  7   \n",
       "4    431534        1             5                  4                 15   \n",
       "\n",
       "   days_since_prior_order  product_id  add_to_cart_order  reordered  \\\n",
       "0                     NaN         196                  1          0   \n",
       "1                    15.0         196                  1          1   \n",
       "2                    21.0         196                  1          1   \n",
       "3                    29.0         196                  1          1   \n",
       "4                    28.0         196                  1          1   \n",
       "\n",
       "  product_name  aisle_id  department_id  prices department        price_range  \\\n",
       "0         Soda        77              7     9.0  beverages  Mid-range product   \n",
       "1         Soda        77              7     9.0  beverages  Mid-range product   \n",
       "2         Soda        77              7     9.0  beverages  Mid-range product   \n",
       "3         Soda        77              7     9.0  beverages  Mid-range product   \n",
       "4         Soda        77              7     9.0  beverages  Mid-range product   \n",
       "\n",
       "  day_busyness_level hour_busyness_level  \n",
       "0   Average Busy Day   Average Busy Hour  \n",
       "1     Least Busy Day   Average Busy Hour  \n",
       "2     Least Busy Day   Average Busy Hour  \n",
       "3     Least Busy Day   Average Busy Hour  \n",
       "4     Least Busy Day   Average Busy Hour  "
      ]
     },
     "execution_count": 17,
     "metadata": {},
     "output_type": "execute_result"
    }
   ],
   "source": [
    "# Checking the updated df with 3 newly created columns\n",
    "\n",
    "df_ords_prods_dept.head()"
   ]
  },
  {
   "cell_type": "code",
   "execution_count": 18,
   "id": "2060a912",
   "metadata": {},
   "outputs": [
    {
     "name": "stdout",
     "output_type": "stream",
     "text": [
      "<class 'pandas.core.frame.DataFrame'>\n",
      "Int64Index: 32404289 entries, 0 to 32404288\n",
      "Data columns (total 17 columns):\n",
      " #   Column                  Dtype  \n",
      "---  ------                  -----  \n",
      " 0   order_id                int32  \n",
      " 1   user_id                 int32  \n",
      " 2   order_number            int8   \n",
      " 3   order_day_of_week       int8   \n",
      " 4   order_hour_of_day       int8   \n",
      " 5   days_since_prior_order  float16\n",
      " 6   product_id              int32  \n",
      " 7   add_to_cart_order       int32  \n",
      " 8   reordered               int8   \n",
      " 9   product_name            object \n",
      " 10  aisle_id                int8   \n",
      " 11  department_id           int8   \n",
      " 12  prices                  float64\n",
      " 13  department              object \n",
      " 14  price_range             object \n",
      " 15  day_busyness_level      object \n",
      " 16  hour_busyness_level     object \n",
      "dtypes: float16(1), float64(1), int32(4), int8(6), object(5)\n",
      "memory usage: 2.4+ GB\n"
     ]
    }
   ],
   "source": [
    "df_ords_prods_dept.info()"
   ]
  },
  {
   "cell_type": "markdown",
   "id": "db33a7e6",
   "metadata": {},
   "source": [
    "## 5. Exporting the dataset with newly dervied columns"
   ]
  },
  {
   "cell_type": "code",
   "execution_count": 19,
   "id": "bb789d8b",
   "metadata": {},
   "outputs": [],
   "source": [
    "# Exporting the dataframe with new variables\n",
    "\n",
    "df_ords_prods_dept.to_pickle(os.path.join(path, '02 Data', 'Prepared Data', 'orders_products_dept_newcolumns.pkl'))"
   ]
  }
 ],
 "metadata": {
  "kernelspec": {
   "display_name": "Python 3 (ipykernel)",
   "language": "python",
   "name": "python3"
  },
  "language_info": {
   "codemirror_mode": {
    "name": "ipython",
    "version": 3
   },
   "file_extension": ".py",
   "mimetype": "text/x-python",
   "name": "python",
   "nbconvert_exporter": "python",
   "pygments_lexer": "ipython3",
   "version": "3.10.9"
  }
 },
 "nbformat": 4,
 "nbformat_minor": 5
}
