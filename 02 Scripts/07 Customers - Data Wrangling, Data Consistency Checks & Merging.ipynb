{
 "cells": [
  {
   "cell_type": "markdown",
   "id": "8993efac",
   "metadata": {},
   "source": [
    "# Customers - Data Wrangling and Data Consistency Checks:\n",
    "\n",
    "1. Importing libraries and dataset\n",
    "2. Checking for columns, datatype, shape using .info()\n",
    "3. Removing columns with PII using .drop()\n",
    "4. Renaming columns using .rename()\n",
    "5. Addressing missing values\n",
    "6. Addressing duplicates\n",
    "7. Checking for mixed datatype\n",
    "8. Changing datatypes to reduce memory usage\n",
    "9. Performing Descriptive Analysis\n",
    "10. Exporting wrangled, consistency checked dataframe"
   ]
  },
  {
   "cell_type": "markdown",
   "id": "cc618c09",
   "metadata": {},
   "source": [
    "## 1. Importing libraries and dataset"
   ]
  },
  {
   "cell_type": "code",
   "execution_count": 1,
   "id": "d83a2178",
   "metadata": {},
   "outputs": [],
   "source": [
    "# Importing libraries\n",
    "\n",
    "import pandas as pd\n",
    "import os"
   ]
  },
  {
   "cell_type": "code",
   "execution_count": 2,
   "id": "22f00f06",
   "metadata": {},
   "outputs": [
    {
     "name": "stdout",
     "output_type": "stream",
     "text": [
      "Stored 'path' (str)\n"
     ]
    }
   ],
   "source": [
    "# Accessing EnvFile for path\n",
    "\n",
    "%run EnvFile.ipynb"
   ]
  },
  {
   "cell_type": "code",
   "execution_count": 3,
   "id": "f5fc5b85",
   "metadata": {},
   "outputs": [],
   "source": [
    "# Importing orders.csv to dataframe\n",
    "\n",
    "df_cust = pd.read_csv(os.path.join(path, '02 Data', 'Original Data', 'customers.csv'))"
   ]
  },
  {
   "cell_type": "code",
   "execution_count": 4,
   "id": "d7a2f786",
   "metadata": {
    "scrolled": true
   },
   "outputs": [
    {
     "data": {
      "text/html": [
       "<div>\n",
       "<style scoped>\n",
       "    .dataframe tbody tr th:only-of-type {\n",
       "        vertical-align: middle;\n",
       "    }\n",
       "\n",
       "    .dataframe tbody tr th {\n",
       "        vertical-align: top;\n",
       "    }\n",
       "\n",
       "    .dataframe thead th {\n",
       "        text-align: right;\n",
       "    }\n",
       "</style>\n",
       "<table border=\"1\" class=\"dataframe\">\n",
       "  <thead>\n",
       "    <tr style=\"text-align: right;\">\n",
       "      <th></th>\n",
       "      <th>user_id</th>\n",
       "      <th>First Name</th>\n",
       "      <th>Surnam</th>\n",
       "      <th>Gender</th>\n",
       "      <th>STATE</th>\n",
       "      <th>Age</th>\n",
       "      <th>date_joined</th>\n",
       "      <th>n_dependants</th>\n",
       "      <th>fam_status</th>\n",
       "      <th>income</th>\n",
       "    </tr>\n",
       "  </thead>\n",
       "  <tbody>\n",
       "    <tr>\n",
       "      <th>0</th>\n",
       "      <td>26711</td>\n",
       "      <td>Deborah</td>\n",
       "      <td>Esquivel</td>\n",
       "      <td>Female</td>\n",
       "      <td>Missouri</td>\n",
       "      <td>48</td>\n",
       "      <td>1/1/2017</td>\n",
       "      <td>3</td>\n",
       "      <td>married</td>\n",
       "      <td>165665</td>\n",
       "    </tr>\n",
       "    <tr>\n",
       "      <th>1</th>\n",
       "      <td>33890</td>\n",
       "      <td>Patricia</td>\n",
       "      <td>Hart</td>\n",
       "      <td>Female</td>\n",
       "      <td>New Mexico</td>\n",
       "      <td>36</td>\n",
       "      <td>1/1/2017</td>\n",
       "      <td>0</td>\n",
       "      <td>single</td>\n",
       "      <td>59285</td>\n",
       "    </tr>\n",
       "    <tr>\n",
       "      <th>2</th>\n",
       "      <td>65803</td>\n",
       "      <td>Kenneth</td>\n",
       "      <td>Farley</td>\n",
       "      <td>Male</td>\n",
       "      <td>Idaho</td>\n",
       "      <td>35</td>\n",
       "      <td>1/1/2017</td>\n",
       "      <td>2</td>\n",
       "      <td>married</td>\n",
       "      <td>99568</td>\n",
       "    </tr>\n",
       "    <tr>\n",
       "      <th>3</th>\n",
       "      <td>125935</td>\n",
       "      <td>Michelle</td>\n",
       "      <td>Hicks</td>\n",
       "      <td>Female</td>\n",
       "      <td>Iowa</td>\n",
       "      <td>40</td>\n",
       "      <td>1/1/2017</td>\n",
       "      <td>0</td>\n",
       "      <td>single</td>\n",
       "      <td>42049</td>\n",
       "    </tr>\n",
       "    <tr>\n",
       "      <th>4</th>\n",
       "      <td>130797</td>\n",
       "      <td>Ann</td>\n",
       "      <td>Gilmore</td>\n",
       "      <td>Female</td>\n",
       "      <td>Maryland</td>\n",
       "      <td>26</td>\n",
       "      <td>1/1/2017</td>\n",
       "      <td>1</td>\n",
       "      <td>married</td>\n",
       "      <td>40374</td>\n",
       "    </tr>\n",
       "  </tbody>\n",
       "</table>\n",
       "</div>"
      ],
      "text/plain": [
       "   user_id First Name    Surnam  Gender       STATE  Age date_joined  \\\n",
       "0    26711    Deborah  Esquivel  Female    Missouri   48    1/1/2017   \n",
       "1    33890   Patricia      Hart  Female  New Mexico   36    1/1/2017   \n",
       "2    65803    Kenneth    Farley    Male       Idaho   35    1/1/2017   \n",
       "3   125935   Michelle     Hicks  Female        Iowa   40    1/1/2017   \n",
       "4   130797        Ann   Gilmore  Female    Maryland   26    1/1/2017   \n",
       "\n",
       "   n_dependants fam_status  income  \n",
       "0             3    married  165665  \n",
       "1             0     single   59285  \n",
       "2             2    married   99568  \n",
       "3             0     single   42049  \n",
       "4             1    married   40374  "
      ]
     },
     "execution_count": 4,
     "metadata": {},
     "output_type": "execute_result"
    }
   ],
   "source": [
    "# Checking the head\n",
    "\n",
    "df_cust.head()"
   ]
  },
  {
   "cell_type": "markdown",
   "id": "5171b54e",
   "metadata": {},
   "source": [
    "## 2. Checking for columns, datatype, shape using .info()"
   ]
  },
  {
   "cell_type": "code",
   "execution_count": 5,
   "id": "f8664322",
   "metadata": {
    "scrolled": true
   },
   "outputs": [
    {
     "name": "stdout",
     "output_type": "stream",
     "text": [
      "<class 'pandas.core.frame.DataFrame'>\n",
      "RangeIndex: 206209 entries, 0 to 206208\n",
      "Data columns (total 10 columns):\n",
      " #   Column        Non-Null Count   Dtype \n",
      "---  ------        --------------   ----- \n",
      " 0   user_id       206209 non-null  int64 \n",
      " 1   First Name    194950 non-null  object\n",
      " 2   Surnam        206209 non-null  object\n",
      " 3   Gender        206209 non-null  object\n",
      " 4   STATE         206209 non-null  object\n",
      " 5   Age           206209 non-null  int64 \n",
      " 6   date_joined   206209 non-null  object\n",
      " 7   n_dependants  206209 non-null  int64 \n",
      " 8   fam_status    206209 non-null  object\n",
      " 9   income        206209 non-null  int64 \n",
      "dtypes: int64(4), object(6)\n",
      "memory usage: 15.7+ MB\n"
     ]
    }
   ],
   "source": [
    "# Checking the info for columns, datatypes, shape of dataframe\n",
    "\n",
    "df_cust.info()"
   ]
  },
  {
   "cell_type": "markdown",
   "id": "5d3ccead",
   "metadata": {},
   "source": [
    "#### The shape of df_cust before consistency checks is (206209, 10) with memory usage of 15.7+ MB."
   ]
  },
  {
   "cell_type": "markdown",
   "id": "321c64fa",
   "metadata": {},
   "source": [
    "## 3. Removing columns with PII using .drop()"
   ]
  },
  {
   "cell_type": "code",
   "execution_count": 6,
   "id": "6592e582",
   "metadata": {},
   "outputs": [],
   "source": [
    "# Removing unnecessary column eval_set\n",
    "\n",
    "df_cust.drop(columns = ['First Name', 'Surnam'], inplace = True)"
   ]
  },
  {
   "cell_type": "markdown",
   "id": "7d6ec934",
   "metadata": {},
   "source": [
    "## 4. Renaming columns using .rename()"
   ]
  },
  {
   "cell_type": "code",
   "execution_count": 7,
   "id": "90501863",
   "metadata": {},
   "outputs": [],
   "source": [
    "# Renaming columns with appropriate names\n",
    "\n",
    "df_cust.rename(columns = {'Gender' : 'gender', 'STATE' : 'state', 'Age' : 'age', 'n_dependants' : 'number_of_dependants', 'fam_status' : 'family_status'}, inplace = True)"
   ]
  },
  {
   "cell_type": "markdown",
   "id": "3f216178",
   "metadata": {},
   "source": [
    "## 5. Addressing missing values"
   ]
  },
  {
   "cell_type": "code",
   "execution_count": 8,
   "id": "8c4f87c9",
   "metadata": {
    "scrolled": true
   },
   "outputs": [
    {
     "data": {
      "text/plain": [
       "user_id                 0\n",
       "gender                  0\n",
       "state                   0\n",
       "age                     0\n",
       "date_joined             0\n",
       "number_of_dependants    0\n",
       "family_status           0\n",
       "income                  0\n",
       "dtype: int64"
      ]
     },
     "execution_count": 8,
     "metadata": {},
     "output_type": "execute_result"
    }
   ],
   "source": [
    "# Finding missing values\n",
    "\n",
    "df_cust.isnull().sum()"
   ]
  },
  {
   "cell_type": "markdown",
   "id": "b2276eb1",
   "metadata": {},
   "source": [
    "#### There are no missing values."
   ]
  },
  {
   "cell_type": "markdown",
   "id": "370e8ddf",
   "metadata": {},
   "source": [
    "## 6. Addressing duplicates"
   ]
  },
  {
   "cell_type": "code",
   "execution_count": 9,
   "id": "3f0676b2",
   "metadata": {
    "scrolled": false
   },
   "outputs": [
    {
     "data": {
      "text/html": [
       "<div>\n",
       "<style scoped>\n",
       "    .dataframe tbody tr th:only-of-type {\n",
       "        vertical-align: middle;\n",
       "    }\n",
       "\n",
       "    .dataframe tbody tr th {\n",
       "        vertical-align: top;\n",
       "    }\n",
       "\n",
       "    .dataframe thead th {\n",
       "        text-align: right;\n",
       "    }\n",
       "</style>\n",
       "<table border=\"1\" class=\"dataframe\">\n",
       "  <thead>\n",
       "    <tr style=\"text-align: right;\">\n",
       "      <th></th>\n",
       "      <th>user_id</th>\n",
       "      <th>gender</th>\n",
       "      <th>state</th>\n",
       "      <th>age</th>\n",
       "      <th>date_joined</th>\n",
       "      <th>number_of_dependants</th>\n",
       "      <th>family_status</th>\n",
       "      <th>income</th>\n",
       "    </tr>\n",
       "  </thead>\n",
       "  <tbody>\n",
       "  </tbody>\n",
       "</table>\n",
       "</div>"
      ],
      "text/plain": [
       "Empty DataFrame\n",
       "Columns: [user_id, gender, state, age, date_joined, number_of_dependants, family_status, income]\n",
       "Index: []"
      ]
     },
     "execution_count": 9,
     "metadata": {},
     "output_type": "execute_result"
    }
   ],
   "source": [
    "# Check for duplicates\n",
    "\n",
    "df_cust[df_cust.duplicated()]"
   ]
  },
  {
   "cell_type": "markdown",
   "id": "a211b745",
   "metadata": {},
   "source": [
    "There are no duplicates. Hence no changes to be made."
   ]
  },
  {
   "cell_type": "markdown",
   "id": "f33a02d9",
   "metadata": {},
   "source": [
    "## 7. Checking for mixed datatype"
   ]
  },
  {
   "cell_type": "code",
   "execution_count": 10,
   "id": "d00e3f9c",
   "metadata": {},
   "outputs": [],
   "source": [
    "# Check for mixed-type data in your df_ords dataframe.\n",
    "\n",
    "for col in df_cust.columns.tolist():\n",
    "    mixeddata = (df_cust[[col]].applymap(type) != df_cust[[col]].iloc[0].apply(type)).any(axis = 1)\n",
    "    if len(df_cust[mixeddata]) > 0:\n",
    "        print(col)"
   ]
  },
  {
   "cell_type": "markdown",
   "id": "6c246bb5",
   "metadata": {},
   "source": [
    "There is no mixed type data"
   ]
  },
  {
   "cell_type": "markdown",
   "id": "723c9b87",
   "metadata": {},
   "source": [
    "## 8. Changing datatypes to reduce memory usage"
   ]
  },
  {
   "cell_type": "code",
   "execution_count": 11,
   "id": "ecb920e4",
   "metadata": {
    "scrolled": true
   },
   "outputs": [],
   "source": [
    "# Change datatypes to reduce memory usage\n",
    "\n",
    "df_cust['user_id'] = df_cust['user_id'].astype('int32')\n",
    "df_cust['age'] = df_cust['age'].astype('int8')\n",
    "df_cust['number_of_dependants'] = df_cust['number_of_dependants'].astype('int8')\n",
    "df_cust['income'] = df_cust['income'].astype('int32')"
   ]
  },
  {
   "cell_type": "code",
   "execution_count": 12,
   "id": "02eb391c",
   "metadata": {
    "scrolled": true
   },
   "outputs": [
    {
     "name": "stdout",
     "output_type": "stream",
     "text": [
      "<class 'pandas.core.frame.DataFrame'>\n",
      "RangeIndex: 206209 entries, 0 to 206208\n",
      "Data columns (total 8 columns):\n",
      " #   Column                Non-Null Count   Dtype \n",
      "---  ------                --------------   ----- \n",
      " 0   user_id               206209 non-null  int32 \n",
      " 1   gender                206209 non-null  object\n",
      " 2   state                 206209 non-null  object\n",
      " 3   age                   206209 non-null  int8  \n",
      " 4   date_joined           206209 non-null  object\n",
      " 5   number_of_dependants  206209 non-null  int8  \n",
      " 6   family_status         206209 non-null  object\n",
      " 7   income                206209 non-null  int32 \n",
      "dtypes: int32(2), int8(2), object(4)\n",
      "memory usage: 8.3+ MB\n"
     ]
    }
   ],
   "source": [
    "# Checking for memory usage reduction using info\n",
    "\n",
    "df_cust.info()"
   ]
  },
  {
   "cell_type": "markdown",
   "id": "b6461131",
   "metadata": {},
   "source": [
    "#### The shape of df_cust after consistency checks is (206209, 8) with memory usage of 8.3+ MB."
   ]
  },
  {
   "cell_type": "markdown",
   "id": "6ca20b60",
   "metadata": {},
   "source": [
    "## 9. Performing Descriptive Analysis"
   ]
  },
  {
   "cell_type": "code",
   "execution_count": 13,
   "id": "fb057e92",
   "metadata": {
    "scrolled": false
   },
   "outputs": [
    {
     "data": {
      "text/html": [
       "<div>\n",
       "<style scoped>\n",
       "    .dataframe tbody tr th:only-of-type {\n",
       "        vertical-align: middle;\n",
       "    }\n",
       "\n",
       "    .dataframe tbody tr th {\n",
       "        vertical-align: top;\n",
       "    }\n",
       "\n",
       "    .dataframe thead th {\n",
       "        text-align: right;\n",
       "    }\n",
       "</style>\n",
       "<table border=\"1\" class=\"dataframe\">\n",
       "  <thead>\n",
       "    <tr style=\"text-align: right;\">\n",
       "      <th></th>\n",
       "      <th>user_id</th>\n",
       "      <th>age</th>\n",
       "      <th>number_of_dependants</th>\n",
       "      <th>income</th>\n",
       "    </tr>\n",
       "  </thead>\n",
       "  <tbody>\n",
       "    <tr>\n",
       "      <th>count</th>\n",
       "      <td>206209.000000</td>\n",
       "      <td>206209.000000</td>\n",
       "      <td>206209.000000</td>\n",
       "      <td>206209.000000</td>\n",
       "    </tr>\n",
       "    <tr>\n",
       "      <th>mean</th>\n",
       "      <td>103105.000000</td>\n",
       "      <td>49.501646</td>\n",
       "      <td>1.499823</td>\n",
       "      <td>94632.852548</td>\n",
       "    </tr>\n",
       "    <tr>\n",
       "      <th>std</th>\n",
       "      <td>59527.555167</td>\n",
       "      <td>18.480962</td>\n",
       "      <td>1.118433</td>\n",
       "      <td>42473.786988</td>\n",
       "    </tr>\n",
       "    <tr>\n",
       "      <th>min</th>\n",
       "      <td>1.000000</td>\n",
       "      <td>18.000000</td>\n",
       "      <td>0.000000</td>\n",
       "      <td>25903.000000</td>\n",
       "    </tr>\n",
       "    <tr>\n",
       "      <th>25%</th>\n",
       "      <td>51553.000000</td>\n",
       "      <td>33.000000</td>\n",
       "      <td>0.000000</td>\n",
       "      <td>59874.000000</td>\n",
       "    </tr>\n",
       "    <tr>\n",
       "      <th>50%</th>\n",
       "      <td>103105.000000</td>\n",
       "      <td>49.000000</td>\n",
       "      <td>1.000000</td>\n",
       "      <td>93547.000000</td>\n",
       "    </tr>\n",
       "    <tr>\n",
       "      <th>75%</th>\n",
       "      <td>154657.000000</td>\n",
       "      <td>66.000000</td>\n",
       "      <td>3.000000</td>\n",
       "      <td>124244.000000</td>\n",
       "    </tr>\n",
       "    <tr>\n",
       "      <th>max</th>\n",
       "      <td>206209.000000</td>\n",
       "      <td>81.000000</td>\n",
       "      <td>3.000000</td>\n",
       "      <td>593901.000000</td>\n",
       "    </tr>\n",
       "  </tbody>\n",
       "</table>\n",
       "</div>"
      ],
      "text/plain": [
       "             user_id            age  number_of_dependants         income\n",
       "count  206209.000000  206209.000000         206209.000000  206209.000000\n",
       "mean   103105.000000      49.501646              1.499823   94632.852548\n",
       "std     59527.555167      18.480962              1.118433   42473.786988\n",
       "min         1.000000      18.000000              0.000000   25903.000000\n",
       "25%     51553.000000      33.000000              0.000000   59874.000000\n",
       "50%    103105.000000      49.000000              1.000000   93547.000000\n",
       "75%    154657.000000      66.000000              3.000000  124244.000000\n",
       "max    206209.000000      81.000000              3.000000  593901.000000"
      ]
     },
     "execution_count": 13,
     "metadata": {},
     "output_type": "execute_result"
    }
   ],
   "source": [
    "# Checking descriptive analysis\n",
    "\n",
    "df_cust.describe()"
   ]
  },
  {
   "cell_type": "markdown",
   "id": "3216be3e",
   "metadata": {},
   "source": [
    "#### There is nothing off about the data. All the min and max values are as expected."
   ]
  },
  {
   "cell_type": "markdown",
   "id": "c51bcb40",
   "metadata": {},
   "source": [
    "## 10. Exporting wrangled, consistency checked dataframe"
   ]
  },
  {
   "cell_type": "code",
   "execution_count": 14,
   "id": "6ca67b45",
   "metadata": {},
   "outputs": [],
   "source": [
    "# Importing prepared Instacart data\n",
    "\n",
    "df_ords_prods_dept = pd.read_pickle(os.path.join(path, '02 Data', 'Prepared Data', 'orders_products_dept_aggcolumns.pkl'))"
   ]
  },
  {
   "cell_type": "code",
   "execution_count": 15,
   "id": "c6ec833a",
   "metadata": {},
   "outputs": [
    {
     "name": "stdout",
     "output_type": "stream",
     "text": [
      "<class 'pandas.core.frame.DataFrame'>\n",
      "Int64Index: 32404289 entries, 0 to 32404288\n",
      "Data columns (total 23 columns):\n",
      " #   Column                         Dtype  \n",
      "---  ------                         -----  \n",
      " 0   order_id                       int32  \n",
      " 1   user_id                        int32  \n",
      " 2   order_number                   int8   \n",
      " 3   order_day_of_week              int8   \n",
      " 4   order_hour_of_day              int8   \n",
      " 5   days_since_prior_order         float16\n",
      " 6   product_id                     int32  \n",
      " 7   add_to_cart_order              int32  \n",
      " 8   reordered                      int8   \n",
      " 9   product_name                   object \n",
      " 10  aisle_id                       int8   \n",
      " 11  department_id                  int8   \n",
      " 12  prices                         float64\n",
      " 13  department                     object \n",
      " 14  price_range                    object \n",
      " 15  day_busyness_level             object \n",
      " 16  hour_busyness_level            object \n",
      " 17  max_order                      int8   \n",
      " 18  loyalty_flag                   object \n",
      " 19  average_price                  float64\n",
      " 20  spending_flag                  object \n",
      " 21  median_days_since_prior_order  float16\n",
      " 22  order_frequency_flag           object \n",
      "dtypes: float16(2), float64(2), int32(4), int8(7), object(8)\n",
      "memory usage: 3.5+ GB\n"
     ]
    }
   ],
   "source": [
    "df_ords_prods_dept.info()"
   ]
  },
  {
   "cell_type": "code",
   "execution_count": 16,
   "id": "bee623cc",
   "metadata": {},
   "outputs": [],
   "source": [
    "# Merging both dfs\n",
    "\n",
    "df_all = df_ords_prods_dept.merge(df_cust, on = 'user_id', indicator = True)"
   ]
  },
  {
   "cell_type": "code",
   "execution_count": 17,
   "id": "1e6aa862",
   "metadata": {
    "scrolled": false
   },
   "outputs": [
    {
     "data": {
      "text/plain": [
       "both          32404289\n",
       "left_only            0\n",
       "right_only           0\n",
       "Name: _merge, dtype: int64"
      ]
     },
     "execution_count": 17,
     "metadata": {},
     "output_type": "execute_result"
    }
   ],
   "source": [
    "# Checking the frequency of '_merge' column values\n",
    "\n",
    "df_all['_merge'].value_counts()"
   ]
  },
  {
   "cell_type": "code",
   "execution_count": 18,
   "id": "c45cf6ab",
   "metadata": {},
   "outputs": [],
   "source": [
    "# Dropping the _merge indicator\n",
    "\n",
    "df_all.drop(columns = ['_merge'], inplace = True)"
   ]
  },
  {
   "cell_type": "code",
   "execution_count": 19,
   "id": "4ca26b4e",
   "metadata": {},
   "outputs": [
    {
     "name": "stdout",
     "output_type": "stream",
     "text": [
      "<class 'pandas.core.frame.DataFrame'>\n",
      "Int64Index: 32404289 entries, 0 to 32404288\n",
      "Data columns (total 30 columns):\n",
      " #   Column                         Dtype  \n",
      "---  ------                         -----  \n",
      " 0   order_id                       int32  \n",
      " 1   user_id                        int32  \n",
      " 2   order_number                   int8   \n",
      " 3   order_day_of_week              int8   \n",
      " 4   order_hour_of_day              int8   \n",
      " 5   days_since_prior_order         float16\n",
      " 6   product_id                     int32  \n",
      " 7   add_to_cart_order              int32  \n",
      " 8   reordered                      int8   \n",
      " 9   product_name                   object \n",
      " 10  aisle_id                       int8   \n",
      " 11  department_id                  int8   \n",
      " 12  prices                         float64\n",
      " 13  department                     object \n",
      " 14  price_range                    object \n",
      " 15  day_busyness_level             object \n",
      " 16  hour_busyness_level            object \n",
      " 17  max_order                      int8   \n",
      " 18  loyalty_flag                   object \n",
      " 19  average_price                  float64\n",
      " 20  spending_flag                  object \n",
      " 21  median_days_since_prior_order  float16\n",
      " 22  order_frequency_flag           object \n",
      " 23  gender                         object \n",
      " 24  state                          object \n",
      " 25  age                            int8   \n",
      " 26  date_joined                    object \n",
      " 27  number_of_dependants           int8   \n",
      " 28  family_status                  object \n",
      " 29  income                         int32  \n",
      "dtypes: float16(2), float64(2), int32(5), int8(9), object(12)\n",
      "memory usage: 4.6+ GB\n"
     ]
    }
   ],
   "source": [
    "df_all.info()"
   ]
  },
  {
   "cell_type": "markdown",
   "id": "dbcedd05",
   "metadata": {},
   "source": [
    "The shape of df_all after merging is (32434489, 29) with memory usage of 4.5+ GB."
   ]
  },
  {
   "cell_type": "code",
   "execution_count": 20,
   "id": "d9b78837",
   "metadata": {},
   "outputs": [
    {
     "data": {
      "text/html": [
       "<div>\n",
       "<style scoped>\n",
       "    .dataframe tbody tr th:only-of-type {\n",
       "        vertical-align: middle;\n",
       "    }\n",
       "\n",
       "    .dataframe tbody tr th {\n",
       "        vertical-align: top;\n",
       "    }\n",
       "\n",
       "    .dataframe thead th {\n",
       "        text-align: right;\n",
       "    }\n",
       "</style>\n",
       "<table border=\"1\" class=\"dataframe\">\n",
       "  <thead>\n",
       "    <tr style=\"text-align: right;\">\n",
       "      <th></th>\n",
       "      <th>order_id</th>\n",
       "      <th>user_id</th>\n",
       "      <th>order_number</th>\n",
       "      <th>order_day_of_week</th>\n",
       "      <th>order_hour_of_day</th>\n",
       "      <th>days_since_prior_order</th>\n",
       "      <th>product_id</th>\n",
       "      <th>add_to_cart_order</th>\n",
       "      <th>reordered</th>\n",
       "      <th>product_name</th>\n",
       "      <th>...</th>\n",
       "      <th>spending_flag</th>\n",
       "      <th>median_days_since_prior_order</th>\n",
       "      <th>order_frequency_flag</th>\n",
       "      <th>gender</th>\n",
       "      <th>state</th>\n",
       "      <th>age</th>\n",
       "      <th>date_joined</th>\n",
       "      <th>number_of_dependants</th>\n",
       "      <th>family_status</th>\n",
       "      <th>income</th>\n",
       "    </tr>\n",
       "  </thead>\n",
       "  <tbody>\n",
       "    <tr>\n",
       "      <th>0</th>\n",
       "      <td>2539329</td>\n",
       "      <td>1</td>\n",
       "      <td>1</td>\n",
       "      <td>2</td>\n",
       "      <td>8</td>\n",
       "      <td>NaN</td>\n",
       "      <td>196</td>\n",
       "      <td>1</td>\n",
       "      <td>0</td>\n",
       "      <td>Soda</td>\n",
       "      <td>...</td>\n",
       "      <td>Low Spender</td>\n",
       "      <td>20.5</td>\n",
       "      <td>Non-frequent Customer</td>\n",
       "      <td>Female</td>\n",
       "      <td>Alabama</td>\n",
       "      <td>31</td>\n",
       "      <td>2/17/2019</td>\n",
       "      <td>3</td>\n",
       "      <td>married</td>\n",
       "      <td>40423</td>\n",
       "    </tr>\n",
       "    <tr>\n",
       "      <th>1</th>\n",
       "      <td>2398795</td>\n",
       "      <td>1</td>\n",
       "      <td>2</td>\n",
       "      <td>3</td>\n",
       "      <td>7</td>\n",
       "      <td>15.0</td>\n",
       "      <td>196</td>\n",
       "      <td>1</td>\n",
       "      <td>1</td>\n",
       "      <td>Soda</td>\n",
       "      <td>...</td>\n",
       "      <td>Low Spender</td>\n",
       "      <td>20.5</td>\n",
       "      <td>Non-frequent Customer</td>\n",
       "      <td>Female</td>\n",
       "      <td>Alabama</td>\n",
       "      <td>31</td>\n",
       "      <td>2/17/2019</td>\n",
       "      <td>3</td>\n",
       "      <td>married</td>\n",
       "      <td>40423</td>\n",
       "    </tr>\n",
       "    <tr>\n",
       "      <th>2</th>\n",
       "      <td>473747</td>\n",
       "      <td>1</td>\n",
       "      <td>3</td>\n",
       "      <td>3</td>\n",
       "      <td>12</td>\n",
       "      <td>21.0</td>\n",
       "      <td>196</td>\n",
       "      <td>1</td>\n",
       "      <td>1</td>\n",
       "      <td>Soda</td>\n",
       "      <td>...</td>\n",
       "      <td>Low Spender</td>\n",
       "      <td>20.5</td>\n",
       "      <td>Non-frequent Customer</td>\n",
       "      <td>Female</td>\n",
       "      <td>Alabama</td>\n",
       "      <td>31</td>\n",
       "      <td>2/17/2019</td>\n",
       "      <td>3</td>\n",
       "      <td>married</td>\n",
       "      <td>40423</td>\n",
       "    </tr>\n",
       "    <tr>\n",
       "      <th>3</th>\n",
       "      <td>2254736</td>\n",
       "      <td>1</td>\n",
       "      <td>4</td>\n",
       "      <td>4</td>\n",
       "      <td>7</td>\n",
       "      <td>29.0</td>\n",
       "      <td>196</td>\n",
       "      <td>1</td>\n",
       "      <td>1</td>\n",
       "      <td>Soda</td>\n",
       "      <td>...</td>\n",
       "      <td>Low Spender</td>\n",
       "      <td>20.5</td>\n",
       "      <td>Non-frequent Customer</td>\n",
       "      <td>Female</td>\n",
       "      <td>Alabama</td>\n",
       "      <td>31</td>\n",
       "      <td>2/17/2019</td>\n",
       "      <td>3</td>\n",
       "      <td>married</td>\n",
       "      <td>40423</td>\n",
       "    </tr>\n",
       "    <tr>\n",
       "      <th>4</th>\n",
       "      <td>431534</td>\n",
       "      <td>1</td>\n",
       "      <td>5</td>\n",
       "      <td>4</td>\n",
       "      <td>15</td>\n",
       "      <td>28.0</td>\n",
       "      <td>196</td>\n",
       "      <td>1</td>\n",
       "      <td>1</td>\n",
       "      <td>Soda</td>\n",
       "      <td>...</td>\n",
       "      <td>Low Spender</td>\n",
       "      <td>20.5</td>\n",
       "      <td>Non-frequent Customer</td>\n",
       "      <td>Female</td>\n",
       "      <td>Alabama</td>\n",
       "      <td>31</td>\n",
       "      <td>2/17/2019</td>\n",
       "      <td>3</td>\n",
       "      <td>married</td>\n",
       "      <td>40423</td>\n",
       "    </tr>\n",
       "  </tbody>\n",
       "</table>\n",
       "<p>5 rows × 30 columns</p>\n",
       "</div>"
      ],
      "text/plain": [
       "   order_id  user_id  order_number  order_day_of_week  order_hour_of_day  \\\n",
       "0   2539329        1             1                  2                  8   \n",
       "1   2398795        1             2                  3                  7   \n",
       "2    473747        1             3                  3                 12   \n",
       "3   2254736        1             4                  4                  7   \n",
       "4    431534        1             5                  4                 15   \n",
       "\n",
       "   days_since_prior_order  product_id  add_to_cart_order  reordered  \\\n",
       "0                     NaN         196                  1          0   \n",
       "1                    15.0         196                  1          1   \n",
       "2                    21.0         196                  1          1   \n",
       "3                    29.0         196                  1          1   \n",
       "4                    28.0         196                  1          1   \n",
       "\n",
       "  product_name  ...  spending_flag  median_days_since_prior_order  \\\n",
       "0         Soda  ...    Low Spender                           20.5   \n",
       "1         Soda  ...    Low Spender                           20.5   \n",
       "2         Soda  ...    Low Spender                           20.5   \n",
       "3         Soda  ...    Low Spender                           20.5   \n",
       "4         Soda  ...    Low Spender                           20.5   \n",
       "\n",
       "    order_frequency_flag  gender    state age date_joined  \\\n",
       "0  Non-frequent Customer  Female  Alabama  31   2/17/2019   \n",
       "1  Non-frequent Customer  Female  Alabama  31   2/17/2019   \n",
       "2  Non-frequent Customer  Female  Alabama  31   2/17/2019   \n",
       "3  Non-frequent Customer  Female  Alabama  31   2/17/2019   \n",
       "4  Non-frequent Customer  Female  Alabama  31   2/17/2019   \n",
       "\n",
       "   number_of_dependants family_status  income  \n",
       "0                     3       married   40423  \n",
       "1                     3       married   40423  \n",
       "2                     3       married   40423  \n",
       "3                     3       married   40423  \n",
       "4                     3       married   40423  \n",
       "\n",
       "[5 rows x 30 columns]"
      ]
     },
     "execution_count": 20,
     "metadata": {},
     "output_type": "execute_result"
    }
   ],
   "source": [
    "# Checking the ouput of merged df\n",
    "\n",
    "df_all.head()"
   ]
  },
  {
   "cell_type": "code",
   "execution_count": 21,
   "id": "9c638176",
   "metadata": {},
   "outputs": [],
   "source": [
    "# Export final merged dataframe\n",
    "\n",
    "df_all.to_pickle(os.path.join(path, '02 Data','Prepared Data', 'orders_products_dept_customers.pkl'))"
   ]
  }
 ],
 "metadata": {
  "kernelspec": {
   "display_name": "Python 3 (ipykernel)",
   "language": "python",
   "name": "python3"
  },
  "language_info": {
   "codemirror_mode": {
    "name": "ipython",
    "version": 3
   },
   "file_extension": ".py",
   "mimetype": "text/x-python",
   "name": "python",
   "nbconvert_exporter": "python",
   "pygments_lexer": "ipython3",
   "version": "3.10.9"
  }
 },
 "nbformat": 4,
 "nbformat_minor": 5
}
